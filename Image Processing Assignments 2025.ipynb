{
 "cells": [
  {
   "cell_type": "markdown",
   "id": "94cf5ba7",
   "metadata": {
    "id": "94cf5ba7"
   },
   "source": [
    "# Assignment 1"
   ]
  },
  {
   "cell_type": "markdown",
   "id": "bf50915a",
   "metadata": {
    "id": "bf50915a"
   },
   "source": [
    "- Write a program in Python which will consider a directory of images and report the number of black pixels and the number of white pixels for each image."
   ]
  },
  {
   "cell_type": "code",
   "execution_count": 1,
   "id": "116f472b",
   "metadata": {
    "id": "116f472b"
   },
   "outputs": [],
   "source": [
    "import os\n",
    "import cv2\n",
    "import numpy as np"
   ]
  },
  {
   "cell_type": "code",
   "execution_count": 2,
   "id": "ef1d7e38",
   "metadata": {
    "id": "ef1d7e38"
   },
   "outputs": [],
   "source": [
    "def count_black_white_pixels(image):\n",
    "\n",
    "    if len(image.shape) == 2:\n",
    "        black_pixels = np.sum(image == 0)               # black pixel implies intensity of 0\n",
    "        white_pixels = np.sum(image == 255)             # white pixel implies intensity of 255\n",
    "    else:\n",
    "        # Black pixels: All channels must be 0\n",
    "        black_pixels = np.sum(np.all(image == 0, axis=-1))\n",
    "        # White pixels: All channels must be 255\n",
    "        white_pixels = np.sum(np.all(image == 255, axis=-1))\n",
    "\n",
    "    return black_pixels, white_pixels"
   ]
  },
  {
   "cell_type": "code",
   "execution_count": 3,
   "id": "258ffeaf",
   "metadata": {
    "id": "258ffeaf"
   },
   "outputs": [],
   "source": [
    "def process_images_in_folder(folder_path):\n",
    "\n",
    "    image_extensions = ('.jpg', '.jpeg', '.bmp', '.png')   # possible extensions of image files as a tuple\n",
    "    results = []\n",
    "\n",
    "    for file_name in os.listdir(folder_path):\n",
    "        if file_name.lower().endswith(image_extensions):\n",
    "            file_path = os.path.join(folder_path, file_name)\n",
    "            image = cv2.imread(file_path, cv2.IMREAD_UNCHANGED)\n",
    "\n",
    "            if image is not None:\n",
    "                black_pixels, white_pixels = count_black_white_pixels(image)\n",
    "                results.append({\n",
    "                    \"file_name\": file_name,\n",
    "                    \"black_pixels\": black_pixels,\n",
    "                    \"white_pixels\": white_pixels\n",
    "                })\n",
    "            else:\n",
    "                print(f\"Warning: Could not read image {file_name}\")\n",
    "\n",
    "    return results"
   ]
  },
  {
   "cell_type": "code",
   "execution_count": 4,
   "id": "a16e754f",
   "metadata": {
    "id": "a16e754f"
   },
   "outputs": [],
   "source": [
    "# Specify the folder containing the images\n",
    "folder_path = \"images\""
   ]
  },
  {
   "cell_type": "code",
   "execution_count": 5,
   "id": "d219db65",
   "metadata": {
    "id": "d219db65"
   },
   "outputs": [
    {
     "name": "stderr",
     "output_type": "stream",
     "text": [
      "libpng warning: iCCP: known incorrect sRGB profile\n"
     ]
    },
    {
     "name": "stdout",
     "output_type": "stream",
     "text": [
      "Image: moon_sobel.jpg, Black Pixels: 878111, White Pixels: 0\n",
      "Image: moon.png, Black Pixels: 885639, White Pixels: 196\n",
      "Image: chestxray.jpg, Black Pixels: 3076, White Pixels: 2621\n",
      "Image: pens.bmp, Black Pixels: 0, White Pixels: 0\n",
      "Image: profile.png, Black Pixels: 0, White Pixels: 0\n",
      "Image: boxes.jpg, Black Pixels: 5488, White Pixels: 285246\n",
      "Image: lena_noisy.png, Black Pixels: 1350, White Pixels: 804\n",
      "Image: mean_profile.jpg, Black Pixels: 0, White Pixels: 0\n",
      "Image: lena_median.png, Black Pixels: 0, White Pixels: 0\n",
      "Image: profile.jpg, Black Pixels: 0, White Pixels: 0\n",
      "Image: cameraman.png, Black Pixels: 587, White Pixels: 655\n",
      "Image: lena_max.png, Black Pixels: 0, White Pixels: 12944\n",
      "Image: storm.jpg, Black Pixels: 27, White Pixels: 0\n",
      "Image: moon.jpg, Black Pixels: 885639, White Pixels: 196\n",
      "Image: lena512.bmp, Black Pixels: 0, White Pixels: 0\n",
      "Image: lena_color.bmp, Black Pixels: 0, White Pixels: 0\n",
      "Image: girlface.bmp, Black Pixels: 6427, White Pixels: 0\n",
      "Image: Mercury.bmp, Black Pixels: 187724, White Pixels: 27\n",
      "Image: houses.bmp, Black Pixels: 0, White Pixels: 3936\n",
      "Image: stars.jpg, Black Pixels: 1, White Pixels: 0\n"
     ]
    }
   ],
   "source": [
    "# Process the images and print the results\n",
    "results = process_images_in_folder(folder_path)\n",
    "for result in results:\n",
    "    print(f\"Image: {result['file_name']}, Black Pixels: {result['black_pixels']}, White Pixels: {result['white_pixels']}\")"
   ]
  },
  {
   "cell_type": "markdown",
   "id": "37528d44",
   "metadata": {
    "id": "37528d44"
   },
   "source": [
    "# Assignment 2"
   ]
  },
  {
   "cell_type": "markdown",
   "id": "610390a0",
   "metadata": {
    "id": "610390a0"
   },
   "source": [
    "- Write a program in Python which will consider a directory of images and report the frequency of pixels of each intensity value. This has to be done for each image in the folder. Convert all colour images to grayscale before proceeding with the frequency calculation."
   ]
  },
  {
   "cell_type": "code",
   "execution_count": null,
   "id": "201f6676",
   "metadata": {},
   "outputs": [],
   "source": []
  },
  {
   "cell_type": "markdown",
   "id": "693dd30d",
   "metadata": {
    "id": "693dd30d"
   },
   "source": [
    "# Assignment 3"
   ]
  },
  {
   "cell_type": "markdown",
   "id": "0656c629",
   "metadata": {
    "id": "0656c629"
   },
   "source": [
    "- Write a program in Python which will consider a directory of images and report the frequency of pixels of each intensity value. This has to be done for each image in the folder."
   ]
  },
  {
   "cell_type": "code",
   "execution_count": null,
   "id": "NDpeeHOrpuZa",
   "metadata": {
    "id": "NDpeeHOrpuZa"
   },
   "outputs": [],
   "source": []
  }
 ],
 "metadata": {
  "colab": {
   "provenance": []
  },
  "kernelspec": {
   "display_name": ".venv",
   "language": "python",
   "name": "python3"
  },
  "language_info": {
   "codemirror_mode": {
    "name": "ipython",
    "version": 3
   },
   "file_extension": ".py",
   "mimetype": "text/x-python",
   "name": "python",
   "nbconvert_exporter": "python",
   "pygments_lexer": "ipython3",
   "version": "3.13.1"
  }
 },
 "nbformat": 4,
 "nbformat_minor": 5
}
