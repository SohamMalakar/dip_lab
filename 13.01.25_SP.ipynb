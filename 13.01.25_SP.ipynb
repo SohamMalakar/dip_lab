{
 "cells": [
  {
   "cell_type": "code",
   "execution_count": 1,
   "metadata": {},
   "outputs": [],
   "source": [
    "import os\n",
    "import numpy as np\n",
    "import matplotlib.pyplot as plt"
   ]
  },
  {
   "cell_type": "code",
   "execution_count": 2,
   "metadata": {},
   "outputs": [
    {
     "name": "stdout",
     "output_type": "stream",
     "text": [
      "Mercury.bmp, b = 187724, w = 27\n",
      "boxes.jpg, b = 5488, w = 285246\n",
      "cameraman.png, b = 587, w = 655\n",
      "chestxray.jpg, b = 3076, w = 2621\n",
      "girlface.bmp, b = 6427, w = 0\n",
      "houses.bmp, b = 0, w = 3936\n",
      "lena512.bmp, b = 0, w = 0\n",
      "lena_color.bmp, b = 0, w = 0\n",
      "lena_max.png, b = 0, w = 12944\n",
      "lena_median.png, b = 0, w = 0\n",
      "lena_noisy.png, b = 1350, w = 804\n",
      "mean_profile.jpg, b = 0, w = 0\n",
      "moon.jpg, b = 885639, w = 196\n",
      "moon.png, b = 885639, w = 196\n",
      "moon_sobel.jpg, b = 878111, w = 0\n",
      "pens.bmp, b = 0, w = 0\n",
      "profile.jpg, b = 0, w = 0\n",
      "profile.png, b = 0, w = 0\n",
      "stars.jpg, b = 1, w = 0\n",
      "storm.jpg, b = 27, w = 0\n"
     ]
    }
   ],
   "source": [
    "images = sorted(os.listdir(\"images\"))\n",
    "\n",
    "for img in images:\n",
    "    mat = plt.imread(os.path.join(\"images\", img))\n",
    "    img_type = img.split(\".\")[-1]\n",
    "\n",
    "    if len(mat.shape) > 2:\n",
    "        r, g, b = mat[:,:,0], mat[:,:,1], mat[:,:,2]\n",
    "        mat = r * 0.299 + g * 0.587 + b * 0.114\n",
    "\n",
    "    blacks = 0\n",
    "    whites = 0\n",
    "    \n",
    "    if img_type == \"png\":\n",
    "        for r in range(mat.shape[0]):\n",
    "            for c in range(mat.shape[1]):\n",
    "                if mat[r, c] == 0:\n",
    "                    blacks += 1\n",
    "                elif mat[r, c] == 1:\n",
    "                    whites += 1\n",
    "    else:\n",
    "        for r in range(mat.shape[0]):\n",
    "            for c in range(mat.shape[1]):\n",
    "                if mat[r, c] == 0:\n",
    "                    blacks += 1\n",
    "                elif mat[r, c] == 255:\n",
    "                    whites += 1\n",
    "    \n",
    "    print(f\"{img}, b = {blacks}, w = {whites}\")"
   ]
  }
 ],
 "metadata": {
  "kernelspec": {
   "display_name": ".venv",
   "language": "python",
   "name": "python3"
  },
  "language_info": {
   "codemirror_mode": {
    "name": "ipython",
    "version": 3
   },
   "file_extension": ".py",
   "mimetype": "text/x-python",
   "name": "python",
   "nbconvert_exporter": "python",
   "pygments_lexer": "ipython3",
   "version": "3.13.1"
  }
 },
 "nbformat": 4,
 "nbformat_minor": 2
}
